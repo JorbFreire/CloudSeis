{
 "cells": [
  {
   "cell_type": "markdown",
   "metadata": {},
   "source": [
    "- [method bokeh.models.Plot.select](https://docs.bokeh.org/en/latest/docs/reference/models/plots.html#bokeh.models.Plot.select)\n",
    "\n",
    "- [attribute bokeh.models.GlyphRenderer.name](https://docs.bokeh.org/en/latest/docs/reference/models/renderers.html#bokeh.models.GlyphRenderer.name)\n",
    "\n",
    "- [attribute `bokeh.models.Plot.hold_render`](https://docs.bokeh.org/en/latest/docs/reference/models/plots.html#bokeh.models.Plot.hold_render)\n",
    "\n",
    "- [attribute `bokeh.models.Plot.renderers`](https://docs.bokeh.org/en/latest/docs/reference/models/plots.html#bokeh.models.Plot.renderers)<br>\n",
    "A list of all glyph renderers for this plot.<br>\n",
    "This property can be manipulated by hand, but the `add_glyph` is recommended to help make sure all necessary setup is performed.\n",
    "\n",
    "- [method `bokeh.models.Plot.add_glyph`](https://docs.bokeh.org/en/latest/docs/reference/models/plots.html#bokeh.models.Plot.add_glyph)\n",
    "\n",
    "- [method `bokeh.models.Plot.hold`](https://docs.bokeh.org/en/latest/docs/reference/models/plots.html#bokeh.models.Plot.hold)\n",
    "\n",
    "- [method `bokeh.models.Plot.update`](https://docs.bokeh.org/en/latest/docs/reference/models/plots.html#bokeh.models.Plot.update)"
   ]
  },
  {
   "cell_type": "code",
   "execution_count": 1,
   "metadata": {},
   "outputs": [
    {
     "name": "stdout",
     "output_type": "stream",
     "text": [
      "num_traces: 2\n",
      "\n",
      "init time: 0.02217844200276886 seconds\n",
      "\n",
      "Number of gathers: 574\n",
      "\n"
     ]
    }
   ],
   "source": [
    "from bokeh.plotting import figure, show\n",
    "from main_test import *"
   ]
  },
  {
   "cell_type": "code",
   "execution_count": 4,
   "metadata": {},
   "outputs": [
    {
     "name": "stdout",
     "output_type": "stream",
     "text": [
      "num_traces: 1\n"
     ]
    },
    {
     "ename": "ValueError",
     "evalue": "zero-size array to reduction operation minimum which has no identity",
     "output_type": "error",
     "traceback": [
      "\u001b[0;31m---------------------------------------------------------------------------\u001b[0m",
      "\u001b[0;31mValueError\u001b[0m                                Traceback (most recent call last)",
      "Cell \u001b[0;32mIn[4], line 1\u001b[0m\n\u001b[0;32m----> 1\u001b[0m \u001b[43mseismic_visualization\u001b[49m\u001b[38;5;241;43m.\u001b[39;49m\u001b[43mupdate_plot\u001b[49m\u001b[43m(\u001b[49m\n\u001b[1;32m      2\u001b[0m \u001b[43m        \u001b[49m\u001b[43mdata\u001b[49m\u001b[38;5;241;43m=\u001b[39;49m\u001b[43msufile\u001b[49m\u001b[38;5;241;43m.\u001b[39;49m\u001b[43migather\u001b[49m\u001b[43m[\u001b[49m\u001b[38;5;241;43m0\u001b[39;49m\u001b[43m:\u001b[49m\u001b[38;5;241;43m1\u001b[39;49m\u001b[43m]\u001b[49m\u001b[38;5;241;43m.\u001b[39;49m\u001b[43mdata\u001b[49m\u001b[43m,\u001b[49m\n\u001b[1;32m      3\u001b[0m \u001b[43m        \u001b[49m\u001b[43mx_positions\u001b[49m\u001b[38;5;241;43m=\u001b[39;49m\u001b[38;5;28;43;01mNone\u001b[39;49;00m\u001b[43m,\u001b[49m\n\u001b[1;32m      4\u001b[0m \u001b[43m        \u001b[49m\u001b[43minterval_time_samples\u001b[49m\u001b[38;5;241;43m=\u001b[39;49m\u001b[43minterval_time_samples\u001b[49m\u001b[43m,\u001b[49m\n\u001b[1;32m      5\u001b[0m \u001b[43m    \u001b[49m\u001b[43m)\u001b[49m\n\u001b[1;32m      6\u001b[0m show(seismic_visualization\u001b[38;5;241m.\u001b[39mplot)\n",
      "File \u001b[0;32m/storage1/Dev/Projects/seismic-webviz/seismic_visualization.py:231\u001b[0m, in \u001b[0;36mSeismicVisualization.update_plot\u001b[0;34m(self, data, x_positions, interval_time_samples, time_unit, stretch_factor, color)\u001b[0m\n\u001b[1;32m    228\u001b[0m amplitudes_zeros \u001b[38;5;241m=\u001b[39m np\u001b[38;5;241m.\u001b[39mzeros(shape\u001b[38;5;241m=\u001b[39m(num_time_samples,))\n\u001b[1;32m    230\u001b[0m \u001b[38;5;66;03m# Minimum trace horizontal spacing\u001b[39;00m\n\u001b[0;32m--> 231\u001b[0m trace_x_spacing \u001b[38;5;241m=\u001b[39m \u001b[43mnp\u001b[49m\u001b[38;5;241;43m.\u001b[39;49m\u001b[43mmin\u001b[49m\u001b[43m(\u001b[49m\u001b[43mnp\u001b[49m\u001b[38;5;241;43m.\u001b[39;49m\u001b[43mdiff\u001b[49m\u001b[43m(\u001b[49m\u001b[43mx_positions\u001b[49m\u001b[43m)\u001b[49m\u001b[43m)\u001b[49m\n\u001b[1;32m    233\u001b[0m \u001b[38;5;66;03m# Rescale data by trace_x_spacing and stretch_factor\u001b[39;00m\n\u001b[1;32m    234\u001b[0m data_max_std \u001b[38;5;241m=\u001b[39m np\u001b[38;5;241m.\u001b[39mmax(np\u001b[38;5;241m.\u001b[39mstd(data, axis\u001b[38;5;241m=\u001b[39m\u001b[38;5;241m0\u001b[39m))\n",
      "File \u001b[0;32m~/.local/share/virtualenvs/seismic-webviz-abM_c3eL/lib/python3.12/site-packages/numpy/core/fromnumeric.py:2953\u001b[0m, in \u001b[0;36mmin\u001b[0;34m(a, axis, out, keepdims, initial, where)\u001b[0m\n\u001b[1;32m   2836\u001b[0m \u001b[38;5;129m@array_function_dispatch\u001b[39m(_min_dispatcher)\n\u001b[1;32m   2837\u001b[0m \u001b[38;5;28;01mdef\u001b[39;00m \u001b[38;5;21mmin\u001b[39m(a, axis\u001b[38;5;241m=\u001b[39m\u001b[38;5;28;01mNone\u001b[39;00m, out\u001b[38;5;241m=\u001b[39m\u001b[38;5;28;01mNone\u001b[39;00m, keepdims\u001b[38;5;241m=\u001b[39mnp\u001b[38;5;241m.\u001b[39m_NoValue, initial\u001b[38;5;241m=\u001b[39mnp\u001b[38;5;241m.\u001b[39m_NoValue,\n\u001b[1;32m   2838\u001b[0m         where\u001b[38;5;241m=\u001b[39mnp\u001b[38;5;241m.\u001b[39m_NoValue):\n\u001b[1;32m   2839\u001b[0m \u001b[38;5;250m    \u001b[39m\u001b[38;5;124;03m\"\"\"\u001b[39;00m\n\u001b[1;32m   2840\u001b[0m \u001b[38;5;124;03m    Return the minimum of an array or minimum along an axis.\u001b[39;00m\n\u001b[1;32m   2841\u001b[0m \n\u001b[0;32m   (...)\u001b[0m\n\u001b[1;32m   2951\u001b[0m \u001b[38;5;124;03m    6\u001b[39;00m\n\u001b[1;32m   2952\u001b[0m \u001b[38;5;124;03m    \"\"\"\u001b[39;00m\n\u001b[0;32m-> 2953\u001b[0m     \u001b[38;5;28;01mreturn\u001b[39;00m \u001b[43m_wrapreduction\u001b[49m\u001b[43m(\u001b[49m\u001b[43ma\u001b[49m\u001b[43m,\u001b[49m\u001b[43m \u001b[49m\u001b[43mnp\u001b[49m\u001b[38;5;241;43m.\u001b[39;49m\u001b[43mminimum\u001b[49m\u001b[43m,\u001b[49m\u001b[43m \u001b[49m\u001b[38;5;124;43m'\u001b[39;49m\u001b[38;5;124;43mmin\u001b[39;49m\u001b[38;5;124;43m'\u001b[39;49m\u001b[43m,\u001b[49m\u001b[43m \u001b[49m\u001b[43maxis\u001b[49m\u001b[43m,\u001b[49m\u001b[43m \u001b[49m\u001b[38;5;28;43;01mNone\u001b[39;49;00m\u001b[43m,\u001b[49m\u001b[43m \u001b[49m\u001b[43mout\u001b[49m\u001b[43m,\u001b[49m\n\u001b[1;32m   2954\u001b[0m \u001b[43m                          \u001b[49m\u001b[43mkeepdims\u001b[49m\u001b[38;5;241;43m=\u001b[39;49m\u001b[43mkeepdims\u001b[49m\u001b[43m,\u001b[49m\u001b[43m \u001b[49m\u001b[43minitial\u001b[49m\u001b[38;5;241;43m=\u001b[39;49m\u001b[43minitial\u001b[49m\u001b[43m,\u001b[49m\u001b[43m \u001b[49m\u001b[43mwhere\u001b[49m\u001b[38;5;241;43m=\u001b[39;49m\u001b[43mwhere\u001b[49m\u001b[43m)\u001b[49m\n",
      "File \u001b[0;32m~/.local/share/virtualenvs/seismic-webviz-abM_c3eL/lib/python3.12/site-packages/numpy/core/fromnumeric.py:88\u001b[0m, in \u001b[0;36m_wrapreduction\u001b[0;34m(obj, ufunc, method, axis, dtype, out, **kwargs)\u001b[0m\n\u001b[1;32m     85\u001b[0m         \u001b[38;5;28;01melse\u001b[39;00m:\n\u001b[1;32m     86\u001b[0m             \u001b[38;5;28;01mreturn\u001b[39;00m reduction(axis\u001b[38;5;241m=\u001b[39maxis, out\u001b[38;5;241m=\u001b[39mout, \u001b[38;5;241m*\u001b[39m\u001b[38;5;241m*\u001b[39mpasskwargs)\n\u001b[0;32m---> 88\u001b[0m \u001b[38;5;28;01mreturn\u001b[39;00m \u001b[43mufunc\u001b[49m\u001b[38;5;241;43m.\u001b[39;49m\u001b[43mreduce\u001b[49m\u001b[43m(\u001b[49m\u001b[43mobj\u001b[49m\u001b[43m,\u001b[49m\u001b[43m \u001b[49m\u001b[43maxis\u001b[49m\u001b[43m,\u001b[49m\u001b[43m \u001b[49m\u001b[43mdtype\u001b[49m\u001b[43m,\u001b[49m\u001b[43m \u001b[49m\u001b[43mout\u001b[49m\u001b[43m,\u001b[49m\u001b[43m \u001b[49m\u001b[38;5;241;43m*\u001b[39;49m\u001b[38;5;241;43m*\u001b[39;49m\u001b[43mpasskwargs\u001b[49m\u001b[43m)\u001b[49m\n",
      "\u001b[0;31mValueError\u001b[0m: zero-size array to reduction operation minimum which has no identity"
     ]
    }
   ],
   "source": [
    "seismic_visualization.update_plot(\n",
    "        data=sufile.igather[0:1].data,\n",
    "        x_positions=None,\n",
    "        interval_time_samples=interval_time_samples,\n",
    "    )\n",
    "show(seismic_visualization.plot)"
   ]
  },
  {
   "cell_type": "code",
   "execution_count": 5,
   "metadata": {},
   "outputs": [
    {
     "name": "stdout",
     "output_type": "stream",
     "text": [
      "<class 'bokeh.models.renderers.glyph_renderer.GlyphRenderer'>\n",
      "<class 'bokeh.models.renderers.glyph_renderer.GlyphRenderer'>\n",
      "<class 'bokeh.models.renderers.glyph_renderer.GlyphRenderer'>\n",
      "<class 'bokeh.models.renderers.glyph_renderer.GlyphRenderer'>\n",
      "<class 'bokeh.models.renderers.glyph_renderer.GlyphRenderer'>\n",
      "<class 'bokeh.models.renderers.glyph_renderer.GlyphRenderer'>\n",
      "<class 'bokeh.models.renderers.glyph_renderer.GlyphRenderer'>\n",
      "<class 'bokeh.models.renderers.glyph_renderer.GlyphRenderer'>\n"
     ]
    }
   ],
   "source": [
    "for x in seismic_visualization.plot.renderers:\n",
    "    print(type(x))"
   ]
  }
 ],
 "metadata": {
  "kernelspec": {
   "display_name": "seismic-webviz-abM_c3eL",
   "language": "python",
   "name": "python3"
  },
  "language_info": {
   "codemirror_mode": {
    "name": "ipython",
    "version": 3
   },
   "file_extension": ".py",
   "mimetype": "text/x-python",
   "name": "python",
   "nbconvert_exporter": "python",
   "pygments_lexer": "ipython3",
   "version": "3.12.3"
  }
 },
 "nbformat": 4,
 "nbformat_minor": 2
}
